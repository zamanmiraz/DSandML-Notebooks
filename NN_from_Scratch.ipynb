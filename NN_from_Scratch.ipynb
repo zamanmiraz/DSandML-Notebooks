{
 "cells": [
  {
   "cell_type": "markdown",
   "id": "1aed1c96",
   "metadata": {},
   "source": [
    "Sigmoid Neuron: It can takes input from 0 to 1. write the equation \n",
    "\n",
    "Input Layer: Input Neurons\n",
    "\n",
    "Hidden (Middle) Layer: Hidden Neurons\n",
    "\n",
    "Output Layer: Output Neurons\n"
   ]
  },
  {
   "cell_type": "code",
   "execution_count": 1,
   "id": "59feec9d",
   "metadata": {},
   "outputs": [],
   "source": [
    "import numpy as np"
   ]
  },
  {
   "cell_type": "code",
   "execution_count": null,
   "id": "bcabdd6d",
   "metadata": {},
   "outputs": [],
   "source": [
    "class Network(object):\n",
    "    def __init__(self, sizes):\n",
    "        \"\"\"Initialize the network with a list of sizes.\"\"\"\n",
    "        self.num_layers = len(sizes) # number of layers in the network\n",
    "        self.sizes = sizes # number of neurons in each layer\n",
    "        self.biases = [np.random.randn(cur, 1) for cur in sizes[1:]] # biases for each layer (except the input layer)\n",
    "        self.weights = [np.random.randn(prev, cur) for prev, cur in zip(sizes[:-1], sizes[1:])] # weights for each layer (except the input layer)"
   ]
  },
  {
   "cell_type": "code",
   "execution_count": 5,
   "id": "2235c9dc",
   "metadata": {},
   "outputs": [
    {
     "data": {
      "text/plain": [
       "[array([[-1.54174811,  0.44301886],\n",
       "        [-1.17677569, -2.97927487],\n",
       "        [-0.33045123, -0.28177142]]),\n",
       " array([[ 0.24636485, -0.45324362, -0.58637459]])]"
      ]
     },
     "execution_count": 5,
     "metadata": {},
     "output_type": "execute_result"
    }
   ],
   "source": [
    "net = Network([2, 3, 1]) # Example: a network with 2 input neurons, 3 hidden neurons, and 1 output neuron\n",
    "net.weights"
   ]
  }
 ],
 "metadata": {
  "kernelspec": {
   "display_name": "Python 3",
   "language": "python",
   "name": "python3"
  },
  "language_info": {
   "codemirror_mode": {
    "name": "ipython",
    "version": 3
   },
   "file_extension": ".py",
   "mimetype": "text/x-python",
   "name": "python",
   "nbconvert_exporter": "python",
   "pygments_lexer": "ipython3",
   "version": "3.10.11"
  }
 },
 "nbformat": 4,
 "nbformat_minor": 5
}
