{
  "cells": [
    {
      "cell_type": "markdown",
      "metadata": {
        "id": "view-in-github",
        "colab_type": "text"
      },
      "source": [
        "<a href=\"https://colab.research.google.com/github/zamanmiraz/DSandML-Notebooks/blob/main/RAG/03_semantic_chunking.ipynb\" target=\"_parent\"><img src=\"https://colab.research.google.com/assets/colab-badge.svg\" alt=\"Open In Colab\"/></a>"
      ]
    },
    {
      "cell_type": "code",
      "execution_count": null,
      "metadata": {
        "id": "nG42DpbmNAty"
      },
      "outputs": [],
      "source": [
        "!git clone https://github.com/guyernest/advanced-rag.git\n",
        "%cd advanced-rag\n",
        "!pip install --upgrade -r requirements.txt"
      ]
    },
    {
      "cell_type": "code",
      "execution_count": null,
      "metadata": {
        "id": "EQANaKBZPDPx"
      },
      "outputs": [],
      "source": [
        "!pip install torchvision==0.18.0\n",
        "!pip install -q -U google-generativeai"
      ]
    },
    {
      "cell_type": "code",
      "execution_count": null,
      "metadata": {
        "id": "tuYpKsBbPLcv"
      },
      "outputs": [],
      "source": [
        "from rich.console import Console\n",
        "from rich.style import Style\n",
        "import pathlib\n",
        "from rich_theme_manager import Theme, ThemeManager\n",
        "\n",
        "THEMES = [\n",
        "    Theme(\n",
        "        name=\"dark\",\n",
        "        description=\"Dark mode theme\",\n",
        "        tags=[\"dark\"],\n",
        "        styles={\n",
        "            \"repr.own\": Style(color=\"#e87d3e\", bold=True),      # Class names\n",
        "            \"repr.tag_name\": \"dim cyan\",                        # Adjust tag names\n",
        "            \"repr.call\": \"bright_yellow\",                       # Function calls and other symbols\n",
        "            \"repr.str\": \"bright_green\",                         # String representation\n",
        "            \"repr.number\": \"bright_red\",                        # Numbers\n",
        "            \"repr.none\": \"dim white\",                           # None\n",
        "            \"repr.attrib_name\": Style(color=\"#e87d3e\", bold=True),    # Attribute names\n",
        "            \"repr.attrib_value\": \"bright_blue\",                 # Attribute values\n",
        "            \"default\": \"bright_white on black\"                  # Default text and background\n",
        "        },\n",
        "    ),\n",
        "    Theme(\n",
        "        name=\"light\",\n",
        "        description=\"Light mode theme\",\n",
        "        styles={\n",
        "            \"repr.own\": Style(color=\"#22863a\", bold=True),          # Class names\n",
        "            \"repr.tag_name\": Style(color=\"#00bfff\", bold=True),     # Adjust tag names\n",
        "            \"repr.call\": Style(color=\"#ffff00\", bold=True),         # Function calls and other symbols\n",
        "            \"repr.str\": Style(color=\"#008080\", bold=True),          # String representation\n",
        "            \"repr.number\": Style(color=\"#ff6347\", bold=True),       # Numbers\n",
        "            \"repr.none\": Style(color=\"#808080\", bold=True),         # None\n",
        "            \"repr.attrib_name\": Style(color=\"#ffff00\", bold=True),  # Attribute names\n",
        "            \"repr.attrib_value\": Style(color=\"#008080\", bold=True), # Attribute values\n",
        "            \"default\": Style(color=\"#000000\", bgcolor=\"#ffffff\"),   # Default text and background\n",
        "        },\n",
        "    ),\n",
        "]\n",
        "\n",
        "theme_dir = pathlib.Path(\"themes\").expanduser()\n",
        "theme_dir.expanduser().mkdir(parents=True, exist_ok=True)\n",
        "\n",
        "theme_manager = ThemeManager(theme_dir=theme_dir, themes=THEMES)\n",
        "theme_manager.list_themes()\n",
        "\n",
        "dark = theme_manager.get(\"dark\")\n",
        "theme_manager.preview_theme(dark)"
      ]
    },
    {
      "cell_type": "code",
      "execution_count": null,
      "metadata": {
        "id": "tk5J184UPO_n"
      },
      "outputs": [],
      "source": [
        "from rich.console import Console\n",
        "\n",
        "dark = theme_manager.get(\"dark\")\n",
        "light = theme_manager.get(\"light\")\n",
        "\n",
        "console = Console(theme=light)"
      ]
    },
    {
      "cell_type": "code",
      "execution_count": null,
      "metadata": {
        "id": "XczTQ46HQ1rT"
      },
      "outputs": [],
      "source": [
        "from datasets import load_dataset\n",
        "dataset = load_dataset(\"jamescalam/ai-arxiv2\", split=\"train\")\n",
        "console.print(dataset)"
      ]
    },
    {
      "cell_type": "code",
      "source": [
        "len(dataset)"
      ],
      "metadata": {
        "id": "BBgVwMCK2q16"
      },
      "execution_count": null,
      "outputs": []
    },
    {
      "cell_type": "code",
      "execution_count": null,
      "metadata": {
        "id": "KxB8nW3qUY_1"
      },
      "outputs": [],
      "source": [
        "content = dataset[3][\"content\"]\n",
        "console.print(content[:500])"
      ]
    },
    {
      "cell_type": "code",
      "source": [
        "import google.generativeai as genai\n",
        "from semantic_chunkers import StatisticalChunker\n",
        "from google.colab import userdata\n",
        "import logging\n",
        "\n",
        "# Disable logs\n",
        "logging.disable(logging.CRITICAL)\n",
        "\n",
        "# Configure API\n",
        "GOOGLE_API_KEY = userdata.get('GOOGLE_API_KEY')\n",
        "genai.configure(api_key=GOOGLE_API_KEY)\n",
        "\n",
        "\n",
        "# ✅ Hybrid encoder: dict + callable\n",
        "class GeminiEncoder(dict):\n",
        "    def __init__(self, model_name=\"models/text-embedding-004\", score_threshold=0.3):\n",
        "        super().__init__(name=model_name, score_threshold=score_threshold)\n",
        "        self.model_name = model_name\n",
        "\n",
        "    def __call__(self, docs):\n",
        "        return [\n",
        "            genai.embed_content(model=self.model_name, content=doc)[\"embedding\"]\n",
        "            for doc in docs\n",
        "        ]\n",
        "\n",
        "# Create encoder instance\n",
        "encoder = GeminiEncoder()\n",
        "\n",
        "# ✅ Initialize chunker\n",
        "chunker = StatisticalChunker(\n",
        "    encoder=encoder,\n",
        "    min_split_tokens=100,\n",
        "    max_split_tokens=500,\n",
        "    plot_chunks=True,\n",
        "    enable_statistics=True\n",
        ")\n",
        "\n",
        "# ✅ Example usage\n",
        "chunks_0 = chunker(docs=[dataset[\"content\"][0]])\n"
      ],
      "metadata": {
        "id": "4VSQsnnQXTdK"
      },
      "execution_count": null,
      "outputs": []
    },
    {
      "cell_type": "code",
      "source": [
        "console.print(chunks_0[0][:5])"
      ],
      "metadata": {
        "id": "3DwUBGd9q6s0"
      },
      "execution_count": null,
      "outputs": []
    },
    {
      "cell_type": "code",
      "source": [
        "chunks_1 = chunker(docs=[dataset[\"content\"][1]])"
      ],
      "metadata": {
        "id": "sdZUAVy5sxTu"
      },
      "execution_count": null,
      "outputs": []
    },
    {
      "cell_type": "code",
      "source": [
        "console.print(chunks_1[0][:3])"
      ],
      "metadata": {
        "collapsed": true,
        "id": "SIv9SOqruTAt"
      },
      "execution_count": null,
      "outputs": []
    },
    {
      "cell_type": "code",
      "source": [
        "from rich.text import Text\n",
        "from rich.panel import Panel\n",
        "\n",
        "def build_chunk(title: str, content: str):\n",
        "    return f\"# {title}\\n{content}\"\n",
        "\n",
        "title = dataset[0][\"title\"]\n",
        "for i,s in enumerate(chunks_0[0][:3]):\n",
        "    content = Text(build_chunk(title=title, content=s.content))\n",
        "    console.print(Panel(content, title=f\"Chunk {i + 1}\", expand=False, border_style=\"bold\"))"
      ],
      "metadata": {
        "id": "6M69s-m52bZY"
      },
      "execution_count": null,
      "outputs": []
    },
    {
      "cell_type": "code",
      "source": [
        "arxiv_id = dataset[0][\"id\"]\n",
        "refs = list(dataset[0][\"references\"].values())\n",
        "\n",
        "metadata = []\n",
        "for i, chunk in enumerate(chunks_0[0]):\n",
        "    prechunk = \"\" if i == 0 else chunks_0[0][i-1].content\n",
        "    postchunk = \"\" if i+1 >= len(chunks_0[0]) else chunks_0[0][i+1].content\n",
        "    metadata.append({\n",
        "        \"title\": title,\n",
        "        \"content\": chunk.content,\n",
        "        \"prechunk\": prechunk,\n",
        "        \"postchunk\": postchunk,\n",
        "        \"arxiv_id\": arxiv_id,\n",
        "        \"references\": refs\n",
        "    })"
      ],
      "metadata": {
        "id": "nr6qZPXr8bXg"
      },
      "execution_count": null,
      "outputs": []
    },
    {
      "cell_type": "code",
      "source": [
        "def build_metadata(doc: dict, doc_splits):\n",
        "    # get document level metadata first\n",
        "    arxiv_id = doc[\"id\"]\n",
        "    title = doc[\"title\"]\n",
        "    refs = list(doc[\"references\"].values())\n",
        "    # init split level metadata list\n",
        "    metadata = []\n",
        "    for i, split in enumerate(doc_splits):\n",
        "        # get neighboring chunks\n",
        "        prechunk_id = \"\" if i == 0 else f\"{arxiv_id}#{i-1}\"\n",
        "        postchunk_id = \"\" if i+1 >= len(doc_splits) else f\"{arxiv_id}#{i+1}\"\n",
        "        # create dict and append to metadata list\n",
        "        metadata.append({\n",
        "            \"id\": f\"{arxiv_id}#{i}\",\n",
        "            \"title\": title,\n",
        "            \"content\": split.content,\n",
        "            \"prechunk_id\": prechunk_id,\n",
        "            \"postchunk_id\": postchunk_id,\n",
        "            \"arxiv_id\": arxiv_id,\n",
        "            \"references\": refs\n",
        "        })\n",
        "    return metadata"
      ],
      "metadata": {
        "id": "LT1nD-Fu8kmN"
      },
      "execution_count": null,
      "outputs": []
    },
    {
      "cell_type": "code",
      "source": [
        "metadata = build_metadata(\n",
        "    doc=dataset[0],\n",
        "    doc_splits=chunks_0[0][:3]\n",
        ")"
      ],
      "metadata": {
        "id": "IdF0kbhw8qyB"
      },
      "execution_count": null,
      "outputs": []
    },
    {
      "cell_type": "code",
      "source": [
        "console.print(metadata)"
      ],
      "metadata": {
        "id": "jMSps4318tCB"
      },
      "execution_count": null,
      "outputs": []
    }
  ],
  "metadata": {
    "colab": {
      "provenance": [],
      "authorship_tag": "ABX9TyNCwPl8pG75tRCWN81rAVZ/",
      "include_colab_link": true
    },
    "kernelspec": {
      "display_name": "Python 3",
      "name": "python3"
    },
    "language_info": {
      "name": "python"
    }
  },
  "nbformat": 4,
  "nbformat_minor": 0
}