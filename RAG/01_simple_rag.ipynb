{
  "nbformat": 4,
  "nbformat_minor": 0,
  "metadata": {
    "colab": {
      "provenance": [],
      "include_colab_link": true
    },
    "kernelspec": {
      "name": "python3",
      "display_name": "Python 3"
    },
    "language_info": {
      "name": "python"
    }
  },
  "cells": [
    {
      "cell_type": "markdown",
      "metadata": {
        "id": "view-in-github",
        "colab_type": "text"
      },
      "source": [
        "<a href=\"https://colab.research.google.com/github/zamanmiraz/DSandML-Notebooks/blob/main/RAG/01_simple_rag.ipynb\" target=\"_parent\"><img src=\"https://colab.research.google.com/assets/colab-badge.svg\" alt=\"Open In Colab\"/></a>"
      ]
    },
    {
      "cell_type": "code",
      "execution_count": null,
      "metadata": {
        "id": "hCNLAQwZ5f9R"
      },
      "outputs": [],
      "source": [
        "!git clone https://github.com/guyernest/advanced-rag.git\n",
        "%cd advanced-rag\n",
        "!pip install --upgrade -r requirements.txt\n",
        "# Install a compatible version of torchvision to address the nms error\n",
        "!pip install torchvision==0.18.0\n",
        "!pip install -q -U google-generativeai"
      ]
    },
    {
      "cell_type": "code",
      "source": [
        "from rich.console import Console\n",
        "from rich.style import Style\n",
        "import pathlib\n",
        "from rich_theme_manager import Theme, ThemeManager\n",
        "\n",
        "THEMES = [\n",
        "    Theme(\n",
        "        name=\"dark\",\n",
        "        description=\"Dark mode theme\",\n",
        "        tags=[\"dark\"],\n",
        "        styles={\n",
        "            \"repr.own\": Style(color=\"#e87d3e\", bold=True),      # Class names\n",
        "            \"repr.tag_name\": \"dim cyan\",                        # Adjust tag names\n",
        "            \"repr.call\": \"bright_yellow\",                       # Function calls and other symbols\n",
        "            \"repr.str\": \"bright_green\",                         # String representation\n",
        "            \"repr.number\": \"bright_red\",                        # Numbers\n",
        "            \"repr.none\": \"dim white\",                           # None\n",
        "            \"repr.attrib_name\": Style(color=\"#e87d3e\", bold=True),    # Attribute names\n",
        "            \"repr.attrib_value\": \"bright_blue\",                 # Attribute values\n",
        "            \"default\": \"bright_white on black\"                  # Default text and background\n",
        "        },\n",
        "    ),\n",
        "    Theme(\n",
        "        name=\"light\",\n",
        "        description=\"Light mode theme\",\n",
        "        styles={\n",
        "            \"repr.own\": Style(color=\"#22863a\", bold=True),          # Class names\n",
        "            \"repr.tag_name\": Style(color=\"#00bfff\", bold=True),     # Adjust tag names\n",
        "            \"repr.call\": Style(color=\"#ffff00\", bold=True),         # Function calls and other symbols\n",
        "            \"repr.str\": Style(color=\"#008080\", bold=True),          # String representation\n",
        "            \"repr.number\": Style(color=\"#ff6347\", bold=True),       # Numbers\n",
        "            \"repr.none\": Style(color=\"#808080\", bold=True),         # None\n",
        "            \"repr.attrib_name\": Style(color=\"#ffff00\", bold=True),  # Attribute names\n",
        "            \"repr.attrib_value\": Style(color=\"#008080\", bold=True), # Attribute values\n",
        "            \"default\": Style(color=\"#000000\", bgcolor=\"#ffffff\"),   # Default text and background\n",
        "        },\n",
        "    ),\n",
        "]\n",
        "\n",
        "theme_dir = pathlib.Path(\"themes\").expanduser()\n",
        "theme_dir.expanduser().mkdir(parents=True, exist_ok=True)\n",
        "\n",
        "theme_manager = ThemeManager(theme_dir=theme_dir, themes=THEMES)\n",
        "theme_manager.list_themes()\n",
        "\n",
        "dark = theme_manager.get(\"dark\")\n",
        "theme_manager.preview_theme(dark)"
      ],
      "metadata": {
        "id": "Buu623jY7wcZ"
      },
      "execution_count": null,
      "outputs": []
    },
    {
      "cell_type": "code",
      "source": [
        "from rich.console import Console\n",
        "\n",
        "dark = theme_manager.get(\"dark\")\n",
        "# Create a console with the dark theme\n",
        "console = Console(theme=dark)"
      ],
      "metadata": {
        "id": "cwsehjRC-GbZ"
      },
      "execution_count": null,
      "outputs": []
    },
    {
      "cell_type": "code",
      "source": [
        "import warnings\n",
        "\n",
        "# Suppress warnings\n",
        "warnings.filterwarnings('ignore')"
      ],
      "metadata": {
        "id": "jDCGhIBN-KUA"
      },
      "execution_count": null,
      "outputs": []
    },
    {
      "cell_type": "code",
      "source": [
        "import pandas as pd\n",
        "data = (\n",
        "    pd\n",
        "    .read_csv('advanced-rag/data/top_rated_wines.csv')\n",
        "    .query('variety.notna()')\n",
        "    .reset_index(drop=True)\n",
        "    .to_dict(orient='records')\n",
        ")\n",
        "data[:2]"
      ],
      "metadata": {
        "id": "Wbcu_5A--PD8"
      },
      "execution_count": null,
      "outputs": []
    },
    {
      "cell_type": "code",
      "source": [
        "from qdrant_client import models, QdrantClient\n",
        "from sentence_transformers import SentenceTransformer\n",
        "\n",
        "# create the vector database client\n",
        "qdrant = QdrantClient(\":memory:\")\n",
        "\n",
        "# create the embedding encoder\n",
        "encoder = SentenceTransformer('all-MiniLM-L6-v2')"
      ],
      "metadata": {
        "id": "T7K_1lWGGN0_"
      },
      "execution_count": null,
      "outputs": []
    },
    {
      "cell_type": "code",
      "source": [
        "# Create the collection to store the wine rating data\n",
        "collection_name = \"top_wines\"\n",
        "qdrant.create_collection(\n",
        "    collection_name=collection_name,\n",
        "    vectors_config=models.VectorParams(\n",
        "        size=encoder.get_sentence_embedding_dimension(),\n",
        "        distance=models.Distance.COSINE\n",
        "    )\n",
        ")"
      ],
      "metadata": {
        "id": "XPGaqPk8JZp0"
      },
      "execution_count": null,
      "outputs": []
    },
    {
      "cell_type": "code",
      "source": [
        "# vectorize!\n",
        "qdrant.upload_points(\n",
        "    collection_name=collection_name,\n",
        "    points=[\n",
        "        models.PointStruct(\n",
        "            id=idx,\n",
        "            vector=encoder.encode(doc[\"notes\"]).tolist(),\n",
        "            payload=doc\n",
        "        ) for idx, doc in enumerate(data)\n",
        "    ]\n",
        ")"
      ],
      "metadata": {
        "id": "usTsVm5YMJFA"
      },
      "execution_count": null,
      "outputs": []
    },
    {
      "cell_type": "code",
      "source": [
        "qdrant.get_collection(collection_name=collection_name)"
      ],
      "metadata": {
        "id": "GmSGsnmxOrIh"
      },
      "execution_count": null,
      "outputs": []
    },
    {
      "cell_type": "code",
      "source": [
        "user_prompt = \"Suggest me an amazing Malbec wine from Argentina\"\n",
        "query_vector = encoder.encode(user_prompt).tolist()"
      ],
      "metadata": {
        "id": "_GDjFPpvPAQq"
      },
      "execution_count": null,
      "outputs": []
    },
    {
      "cell_type": "code",
      "source": [
        "# search time for awesome wines\n",
        "\n",
        "hits = qdrant.search(\n",
        "    collection_name=collection_name,\n",
        "    query_vector=query_vector,\n",
        "    limit=3\n",
        ")"
      ],
      "metadata": {
        "id": "eRVh_hMMQHqM"
      },
      "execution_count": null,
      "outputs": []
    },
    {
      "cell_type": "code",
      "source": [
        "from rich.console import Console\n",
        "from rich.text import Text\n",
        "from rich.table import Table\n",
        "table = Table(title=\"Retrieval Results\", show_lines=True)\n",
        "\n",
        "table.add_column(\"Name\", style=\"#e0e0e0\")\n",
        "table.add_column(\"Region\", style=\"bright_red\")\n",
        "table.add_column(\"Variety\", style=\"green\")\n",
        "table.add_column(\"Rating\", style=\"yellow\")\n",
        "table.add_column(\"Notes\", style=\"#89ddff\")\n",
        "table.add_column(\"Score\", style=\"#a6accd\")\n",
        "\n",
        "for hit in hits:\n",
        "    table.add_row(\n",
        "        hit.payload[\"name\"],\n",
        "        hit.payload[\"region\"],\n",
        "        hit.payload[\"variety\"],\n",
        "        str(hit.payload[\"rating\"]),\n",
        "        f'{hit.payload[\"notes\"][:50]}...',\n",
        "        f\"{hit.score:.4f}\"\n",
        "    )\n",
        "\n",
        "table"
      ],
      "metadata": {
        "id": "65k7RuVNQqTC"
      },
      "execution_count": null,
      "outputs": []
    },
    {
      "cell_type": "code",
      "source": [
        "from dotenv import load_dotenv\n",
        "load_dotenv()"
      ],
      "metadata": {
        "id": "MiGpmAQ0RUCo"
      },
      "execution_count": null,
      "outputs": []
    },
    {
      "cell_type": "code",
      "source": [
        "from openai import OpenAI\n",
        "from rich.panel import Panel\n",
        "\n",
        "client = OpenAI()"
      ],
      "metadata": {
        "id": "Qh9dKaXDRoEh"
      },
      "execution_count": null,
      "outputs": []
    },
    {
      "cell_type": "markdown",
      "metadata": {
        "id": "371682b7"
      },
      "source": [
        "# Task\n",
        "Set up Gemini API using Colab Secrets Manager."
      ]
    },
    {
      "cell_type": "markdown",
      "metadata": {
        "id": "e3fd2f0f"
      },
      "source": [
        "First, install the Google Generative AI library."
      ]
    },
    {
      "cell_type": "code",
      "metadata": {
        "id": "9554e8ae"
      },
      "source": [
        "!pip install -q -U google-generativeai"
      ],
      "execution_count": null,
      "outputs": []
    },
    {
      "cell_type": "code",
      "metadata": {
        "id": "c6554fad"
      },
      "source": [
        "import google.generativeai as genai\n",
        "from google.colab import userdata\n",
        "\n",
        "GOOGLE_API_KEY = userdata.get('GOOGLE_API_KEY')\n",
        "genai.configure(api_key=GOOGLE_API_KEY)"
      ],
      "execution_count": null,
      "outputs": []
    },
    {
      "cell_type": "markdown",
      "metadata": {
        "id": "5d875ad6"
      },
      "source": [
        "Next, initialize the Gemini model. You can choose a specific model depending on your needs."
      ]
    },
    {
      "cell_type": "code",
      "metadata": {
        "id": "5f04153f"
      },
      "source": [
        "# Initialize the Gemini API\n",
        "gemini_model = genai.GenerativeModel('gemini-2.0-flash')"
      ],
      "execution_count": null,
      "outputs": []
    },
    {
      "cell_type": "markdown",
      "metadata": {
        "id": "88cf6aad"
      },
      "source": [
        "Finally, you can test the API to make sure it's working correctly."
      ]
    },
    {
      "cell_type": "code",
      "metadata": {
        "id": "f7d9c9d2"
      },
      "source": [
        "# Now time to connect to the large language model\n",
        "import google.generativeai as genai\n",
        "from rich.panel import Panel\n",
        "from rich.text import Text\n",
        "\n",
        "# Assuming gemini_model is already initialized in a previous cell\n",
        "# gemini_model = genai.GenerativeModel('gemini-1.5-flash')\n",
        "\n",
        "response = gemini_model.generate_content(f\"As a wine specialist, suggest an amazing Malbec wine from Argentina based on the following user prompt: {user_prompt}\")\n",
        "\n",
        "response_text = Text(response.text)\n",
        "styled_panel = Panel(\n",
        "    response_text,\n",
        "    title=\"Wine Recommendation with Gemini\",\n",
        "    expand=False,\n",
        "    border_style=\"bold green\",\n",
        "    padding=(1, 1)\n",
        ")\n",
        "\n",
        "console.print(styled_panel)"
      ],
      "execution_count": null,
      "outputs": []
    },
    {
      "cell_type": "code",
      "source": [
        "\n",
        "# define a variable to hold the search results\n",
        "search_results = [hit.payload for hit in hits]"
      ],
      "metadata": {
        "id": "X86GxZnhW4hq"
      },
      "execution_count": null,
      "outputs": []
    },
    {
      "cell_type": "code",
      "source": [
        "# Use Gemini for Retrieval Augmented Generation (RAG)\n",
        "\n",
        "completion = gemini_model.generate_content(\n",
        "    f\"As a wine specialist, suggest an amazing Malbec wine from Argentina based on the following user prompt and the provided search results:\\n\\nUser Prompt: {user_prompt}\\n\\nSearch Results: {search_results}\"\n",
        ")\n",
        "\n",
        "response_text = Text(completion.text)\n",
        "styled_panel = Panel(\n",
        "    response_text,\n",
        "    title=\"Wine Recommendation with Retrieval Augmented Generation (Gemini)\",\n",
        "    expand=False,\n",
        "    border_style=\"bold blue\",\n",
        "    padding=(1, 1)\n",
        ")\n",
        "\n",
        "console.print(styled_panel)"
      ],
      "metadata": {
        "id": "PZiLQHUzW8PP"
      },
      "execution_count": null,
      "outputs": []
    }
  ]
}