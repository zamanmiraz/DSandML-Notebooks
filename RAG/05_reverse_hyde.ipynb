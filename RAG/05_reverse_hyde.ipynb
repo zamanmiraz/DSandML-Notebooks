{
  "nbformat": 4,
  "nbformat_minor": 0,
  "metadata": {
    "colab": {
      "provenance": [],
      "authorship_tag": "ABX9TyNT0owjuuGhH6NBzjdX/DTO",
      "include_colab_link": true
    },
    "kernelspec": {
      "name": "python3",
      "display_name": "Python 3"
    },
    "language_info": {
      "name": "python"
    }
  },
  "cells": [
    {
      "cell_type": "markdown",
      "metadata": {
        "id": "view-in-github",
        "colab_type": "text"
      },
      "source": [
        "<a href=\"https://colab.research.google.com/github/zamanmiraz/DSandML-Notebooks/blob/main/RAG/05_reverse_hyde.ipynb\" target=\"_parent\"><img src=\"https://colab.research.google.com/assets/colab-badge.svg\" alt=\"Open In Colab\"/></a>"
      ]
    },
    {
      "cell_type": "code",
      "execution_count": null,
      "metadata": {
        "id": "4pO-yZxnOTfM"
      },
      "outputs": [],
      "source": [
        "!git clone https://github.com/guyernest/advanced-rag.git\n",
        "%cd advanced-rag\n",
        "!pip install --upgrade -r requirements.txt"
      ]
    },
    {
      "cell_type": "code",
      "source": [
        "!pip install torchvision==0.18.0\n",
        "!pip install -q -U google-generativeai"
      ],
      "metadata": {
        "id": "Bq5Pv4Bol5sR"
      },
      "execution_count": null,
      "outputs": []
    },
    {
      "cell_type": "code",
      "source": [
        "from rich.console import Console\n",
        "from rich.style import Style\n",
        "import pathlib\n",
        "from rich_theme_manager import Theme, ThemeManager\n",
        "\n",
        "THEMES = [\n",
        "    Theme(\n",
        "        name=\"dark\",\n",
        "        description=\"Dark mode theme\",\n",
        "        tags=[\"dark\"],\n",
        "        styles={\n",
        "            \"repr.own\": Style(color=\"#e87d3e\", bold=True),      # Class names\n",
        "            \"repr.tag_name\": \"dim cyan\",                        # Adjust tag names\n",
        "            \"repr.call\": \"bright_yellow\",                       # Function calls and other symbols\n",
        "            \"repr.str\": \"bright_green\",                         # String representation\n",
        "            \"repr.number\": \"bright_red\",                        # Numbers\n",
        "            \"repr.none\": \"dim white\",                           # None\n",
        "            \"repr.attrib_name\": Style(color=\"#e87d3e\", bold=True),    # Attribute names\n",
        "            \"repr.attrib_value\": \"bright_blue\",                 # Attribute values\n",
        "            \"default\": \"bright_white on black\"                  # Default text and background\n",
        "        },\n",
        "    ),\n",
        "    Theme(\n",
        "        name=\"light\",\n",
        "        description=\"Light mode theme\",\n",
        "        styles={\n",
        "            \"repr.own\": Style(color=\"#22863a\", bold=True),          # Class names\n",
        "            \"repr.tag_name\": Style(color=\"#00bfff\", bold=True),     # Adjust tag names\n",
        "            \"repr.call\": Style(color=\"#ffff00\", bold=True),         # Function calls and other symbols\n",
        "            \"repr.str\": Style(color=\"#008080\", bold=True),          # String representation\n",
        "            \"repr.number\": Style(color=\"#ff6347\", bold=True),       # Numbers\n",
        "            \"repr.none\": Style(color=\"#808080\", bold=True),         # None\n",
        "            \"repr.attrib_name\": Style(color=\"#ffff00\", bold=True),  # Attribute names\n",
        "            \"repr.attrib_value\": Style(color=\"#008080\", bold=True), # Attribute values\n",
        "            \"default\": Style(color=\"#000000\", bgcolor=\"#ffffff\"),   # Default text and background\n",
        "        },\n",
        "    ),\n",
        "]\n",
        "\n",
        "theme_dir = pathlib.Path(\"themes\").expanduser()\n",
        "theme_dir.expanduser().mkdir(parents=True, exist_ok=True)\n",
        "\n",
        "theme_manager = ThemeManager(theme_dir=theme_dir, themes=THEMES)\n",
        "theme_manager.list_themes()\n",
        "\n",
        "dark = theme_manager.get(\"dark\")\n",
        "theme_manager.preview_theme(dark)\n",
        "light = theme_manager.get(\"light\")\n",
        "\n",
        "console = Console(theme=light)"
      ],
      "metadata": {
        "id": "mM7rBqoMl8UV"
      },
      "execution_count": null,
      "outputs": []
    },
    {
      "cell_type": "code",
      "source": [
        "import warnings\n",
        "\n",
        "# Suppress warnings\n",
        "warnings.filterwarnings('ignore')"
      ],
      "metadata": {
        "id": "WdobTwsZl-Va"
      },
      "execution_count": null,
      "outputs": []
    },
    {
      "cell_type": "code",
      "source": [
        "import google.generativeai as genai\n",
        "from semantic_chunkers import StatisticalChunker\n",
        "from google.colab import userdata\n",
        "import logging\n",
        "\n",
        "# Disable logs\n",
        "logging.disable(logging.CRITICAL)\n",
        "\n",
        "# Configure API\n",
        "GOOGLE_API_KEY = userdata.get('GOOGLE_API_KEY')\n",
        "genai.configure(api_key=GOOGLE_API_KEY)"
      ],
      "metadata": {
        "id": "CAG2QRGCoIfE"
      },
      "execution_count": null,
      "outputs": []
    },
    {
      "cell_type": "code",
      "source": [
        "from typing import List, Dict\n",
        "import google.generativeai as genai\n",
        "\n",
        "class ReverseHyde:\n",
        "    def __init__(self, api_key: str, model_name=\"models/text-embedding-004\", gen_model=\"gemini-2.0-flash\"):\n",
        "        # Configure Gemini API\n",
        "        genai.configure(api_key=api_key)\n",
        "        self.embed_model = model_name\n",
        "        self.gen_model = gen_model\n",
        "        self.generator = genai.GenerativeModel(self.gen_model)\n",
        "\n",
        "    def get_embedding(self, text: str) -> List[float]:\n",
        "        \"\"\"Generate embedding for a text chunk using Gemini embedding model.\"\"\"\n",
        "        response = genai.embed_content(model=self.embed_model, content=text)\n",
        "        return response[\"embedding\"]\n",
        "\n",
        "    def generate_reverse_hyde(self, chunk: str, n: int = 3) -> List[str]:\n",
        "        \"\"\"Generate N questions that the given chunk could answer.\"\"\"\n",
        "        prompt = f\"\"\"\n",
        "Given the following text chunk, generate {n} different questions that this chunk would be a good answer to:\n",
        "\n",
        "Chunk:\n",
        "{chunk}\n",
        "\n",
        "Questions (enumerate the questions with 1., 2., etc.):\n",
        "\"\"\"\n",
        "\n",
        "        response = self.generator.generate_content(prompt)\n",
        "\n",
        "        # Extract text and clean\n",
        "        text_output = response.text.strip()\n",
        "        lines = text_output.split('\\n')\n",
        "        questions = [line.split('. ', 1)[1] for line in lines if '. ' in line]\n",
        "        return questions\n",
        "\n",
        "    def process_chunks(self, chunks: List[str], n: int = 3) -> Dict[str, List[str]]:\n",
        "        \"\"\"Process multiple chunks and generate questions for each.\"\"\"\n",
        "        processed = {}\n",
        "        for chunk in chunks:\n",
        "            processed[chunk] = self.generate_reverse_hyde(chunk, n)\n",
        "        return processed\n"
      ],
      "metadata": {
        "id": "20NrIHLv27pN"
      },
      "execution_count": null,
      "outputs": []
    },
    {
      "cell_type": "code",
      "source": [
        "import os\n",
        "# Usage example\n",
        "from google.colab import userdata\n",
        "GOOGLE_API_KEY = userdata.get('GOOGLE_API_KEY')\n",
        "reverse_hyde = ReverseHyde(GOOGLE_API_KEY)\n",
        "\n",
        "chunks = [\n",
        "    \"A mitochondrion (pl. mitochondria) is an organelle found in the cells of most eukaryotes, such as animals, plants and fungi. Mitochondria have a double membrane structure and use aerobic respiration to generate adenosine triphosphate (ATP), which is used throughout the cell as a source of chemical energy. They were discovered by Albert von Kölliker in 1857 in the voluntary muscles of insects. Meaning a thread-like granule, the term mitochondrion was coined by Carl Benda in 1898. The mitochondrion is popularly nicknamed the \\\"powerhouse of the cell\\\", a phrase popularized by Philip Siekevitz in a 1957 Scientific American article of the same name.\",\n",
        "    \"Python is a high-level, general-purpose programming language. Its design philosophy emphasizes code readability with the use of significant indentation. Python is dynamically typed and garbage-collected. It supports multiple programming paradigms, including structured (particularly procedural), object-oriented and functional programming. It is often described as a \\\"batteries included\\\" language due to its comprehensive standard library.\",\n",
        "    \"The American Civil War (from April 12, 1861 to May 26, 1865) was a civil war in the United States between the Union (\\\"the North\\\") and the Confederacy (\\\"the South\\\"), which was formed in 1861 by states that had seceded from the Union. The central conflict leading to war was a dispute over whether slavery should be permitted to expand into the western territories, leading to more slave states, or be prohibited from doing so, which many believed would place slavery on a course of ultimate extinction.\"\n",
        "]\n",
        "\n",
        "processed_chunks = reverse_hyde.process_chunks(chunks, n=5)"
      ],
      "metadata": {
        "id": "jDmCNMbj87UL"
      },
      "execution_count": null,
      "outputs": []
    },
    {
      "cell_type": "code",
      "source": [
        "console.print(processed_chunks)"
      ],
      "metadata": {
        "id": "fQuRXf1L9NTy"
      },
      "execution_count": null,
      "outputs": []
    },
    {
      "cell_type": "code",
      "source": [
        "query = \"What generates energy in a cell?\""
      ],
      "metadata": {
        "id": "PnEyZnqj_29P"
      },
      "execution_count": null,
      "outputs": []
    },
    {
      "cell_type": "code",
      "source": [
        "from qdrant_client import models, QdrantClient\n",
        "from sentence_transformers import SentenceTransformer\n",
        "\n",
        "# create the vector database client\n",
        "qdrant = QdrantClient(\":memory:\") # Create in-memory Qdrant instance\n",
        "\n",
        "# Create the embedding encoder\n",
        "encoder = SentenceTransformer('all-MiniLM-L6-v2') # Model to create embeddings"
      ],
      "metadata": {
        "id": "bZPElor5_5eG"
      },
      "execution_count": null,
      "outputs": []
    },
    {
      "cell_type": "code",
      "source": [
        "hyde_collection_name=\"reverse_hyde\"\n",
        "\n",
        "qdrant.recreate_collection(\n",
        "    collection_name=hyde_collection_name,\n",
        "    vectors_config=models.VectorParams(\n",
        "        size=encoder.get_sentence_embedding_dimension(), # Vector size is defined by used model\n",
        "        distance=models.Distance.COSINE\n",
        "    )\n",
        ")"
      ],
      "metadata": {
        "id": "1gw0ytQS_8JP"
      },
      "execution_count": null,
      "outputs": []
    },
    {
      "cell_type": "code",
      "source": [
        "import uuid\n",
        "# vectorize!\n",
        "qdrant.upload_points(\n",
        "    collection_name=hyde_collection_name,\n",
        "    points=[\n",
        "        models.PointStruct(\n",
        "            id=uuid.uuid5(uuid.NAMESPACE_URL, f\"{d_idx}-{q_idx}\").hex,\n",
        "            vector=encoder.encode(question).tolist(),\n",
        "            payload={\n",
        "                \"document\": document ,\n",
        "                \"doc_id\": d_idx\n",
        "            }\n",
        "        ) for d_idx, (document, questions)\n",
        "            in enumerate(processed_chunks.items())\n",
        "                for q_idx, question in enumerate(questions)\n",
        "    ]\n",
        ")"
      ],
      "metadata": {
        "id": "ME5QMXXJADNk"
      },
      "execution_count": null,
      "outputs": []
    },
    {
      "cell_type": "code",
      "source": [
        "console.print(\n",
        "    qdrant\n",
        "    .get_collection(\n",
        "        collection_name=hyde_collection_name\n",
        "    )\n",
        ")"
      ],
      "metadata": {
        "id": "g-7A55MsAFjD"
      },
      "execution_count": null,
      "outputs": []
    },
    {
      "cell_type": "code",
      "source": [
        "from rich.panel import Panel\n",
        "from rich.table import Table\n",
        "\n",
        "def search_collection(collection_name: str, query: str, limit: int = 1):\n",
        "    \"\"\"\n",
        "    This function searches the specified collection for the best match to the given query.\n",
        "    It then creates a table and a panel to display the query and the best match.\n",
        "\n",
        "    :param collection_name: The name of the collection to search.\n",
        "    :param query: The query to search for.\n",
        "    :param limit: The maximum number of results to return. Default is 1.\n",
        "    \"\"\"\n",
        "    hits = qdrant.search(\n",
        "        collection_name=collection_name,\n",
        "        query_vector=encoder.encode(query).tolist(),\n",
        "        limit=limit\n",
        "    )\n",
        "    # Create a table for both query and best match\n",
        "    table = Table(show_header=True, header_style=\"bold yellow\")\n",
        "    table.add_column(\"Query\", style=\"bright_cyan\", width=30)\n",
        "    table.add_column(\"Best Matching Chunk\", style=\"bright_yellow\", width=50)\n",
        "    table.add_column(\"Score\", style=\"bright_green\")\n",
        "    for hit in hits:\n",
        "        table.add_row(query, f\"{hit.payload['document'][:80]}...\", \"{:.4f}\".format(hit.score))\n",
        "\n",
        "    # Create a panel for the table\n",
        "    panel = Panel(\n",
        "        table,\n",
        "        title=f\"[bold]Query and Best Match in {collection_name}\",\n",
        "        border_style=\"white\",\n",
        "        expand=False\n",
        "    )\n",
        "\n",
        "    # Print the panel\n",
        "    console.print(panel)"
      ],
      "metadata": {
        "id": "gLieIi5xAP97"
      },
      "execution_count": null,
      "outputs": []
    },
    {
      "cell_type": "code",
      "source": [
        "search_collection(hyde_collection_name, query)\n"
      ],
      "metadata": {
        "id": "zIFWP4JDATEt"
      },
      "execution_count": null,
      "outputs": []
    },
    {
      "cell_type": "code",
      "source": [
        "# Create collection to store the wine rating data\n",
        "docs_collection_name=\"documents_only\"\n",
        "\n",
        "qdrant.recreate_collection(\n",
        "    collection_name=docs_collection_name,\n",
        "    vectors_config=models.VectorParams(\n",
        "        size=encoder.get_sentence_embedding_dimension(), # Vector size is defined by used model\n",
        "        distance=models.Distance.COSINE\n",
        "    )\n",
        ")"
      ],
      "metadata": {
        "id": "-QRRuY2PAXXd"
      },
      "execution_count": null,
      "outputs": []
    },
    {
      "cell_type": "code",
      "source": [
        "# vectorize!\n",
        "qdrant.upload_points(\n",
        "    collection_name=docs_collection_name,\n",
        "    points=[\n",
        "        models.PointStruct(\n",
        "            id=idx,\n",
        "            vector=encoder.encode(document).tolist(),\n",
        "            payload={ \"document\": document}\n",
        "        ) for idx, (document, questions) in enumerate(processed_chunks.items())\n",
        "    ]\n",
        ")"
      ],
      "metadata": {
        "id": "DgyQThwQAZ_G"
      },
      "execution_count": null,
      "outputs": []
    },
    {
      "cell_type": "code",
      "source": [
        "\n",
        "search_collection(docs_collection_name, query)"
      ],
      "metadata": {
        "id": "rhEpG653AcrP"
      },
      "execution_count": null,
      "outputs": []
    }
  ]
}